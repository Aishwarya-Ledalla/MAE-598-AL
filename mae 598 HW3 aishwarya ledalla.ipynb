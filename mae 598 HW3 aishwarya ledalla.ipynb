{
 "cells": [
  {
   "cell_type": "markdown",
   "id": "ac580da7",
   "metadata": {},
   "source": [
    "# # Problem 1"
   ]
  },
  {
   "cell_type": "markdown",
   "id": "3f7cba5a",
   "metadata": {},
   "source": [
    "* 1) Formulate Problem\n"
   ]
  },
  {
   "cell_type": "markdown",
   "id": "d50af615",
   "metadata": {},
   "source": [
    "# # Problem 2"
   ]
  },
  {
   "cell_type": "code",
   "execution_count": null,
   "id": "b9f94386",
   "metadata": {},
   "outputs": [],
   "source": [
    "import sklearn.gaussian_process as gp\n",
    "\n",
    "def bayesian_optimization(n_iters, sample_loss, xp, yp):\n",
    "\n",
    "\n",
    "\n",
    "\n",
    "\n",
    "\n",
    "\n",
    "\n",
    "\n",
    "\n",
    "\n",
    "bnds = np.array([[-3, 3], [-2, 2]])\n",
    "\n",
    "xp, yp = bayesian_optimisation(n_iters=30, \n",
    "                               sample_loss=loss, \n",
    "                               bounds=bnds,\n",
    "                               n_pre_samples=3,\n",
    "                               random_search=100000)"
   ]
  }
 ],
 "metadata": {
  "kernelspec": {
   "display_name": "Python 3",
   "language": "python",
   "name": "python3"
  },
  "language_info": {
   "codemirror_mode": {
    "name": "ipython",
    "version": 3
   },
   "file_extension": ".py",
   "mimetype": "text/x-python",
   "name": "python",
   "nbconvert_exporter": "python",
   "pygments_lexer": "ipython3",
   "version": "3.8.8"
  }
 },
 "nbformat": 4,
 "nbformat_minor": 5
}
