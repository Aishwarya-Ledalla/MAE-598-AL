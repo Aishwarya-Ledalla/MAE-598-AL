{
 "cells": [
  {
   "cell_type": "code",
   "execution_count": 12,
   "id": "e951c3ce",
   "metadata": {},
   "outputs": [],
   "source": [
    "from scipy.optimize import minimize\n",
    "\n",
    "fun = lambda x: (x[0]-x[1])**2 + (x[1]+x[2]-2)**2 + (x[3]-1)**2 + (x[4]-1)**2\n",
    "con = ({'type': 'eq', 'fun': lambda x: x[0]+3*x[1]},\n",
    "        {'type': 'eq', 'fun': lambda x: x[2]+x[3]-2*x[4]},\n",
    "        {'type': 'eq', 'fun': lambda x: x[1]-x[4]})\n",
    "bnd = ((-10,10),(-10,10),(-10,10),(-10,10),(-10,10))\n",
    "res = minimize(fun, (100,200,100,500,800), method = 'SLSQP', bounds = bnd, constraints = con)"
   ]
  },
  {
   "cell_type": "code",
   "execution_count": 8,
   "id": "4a2949c6",
   "metadata": {},
   "outputs": [
    {
     "data": {
      "text/plain": [
       "4.09302326452976"
      ]
     },
     "execution_count": 8,
     "metadata": {},
     "output_type": "execute_result"
    }
   ],
   "source": [
    "res.fun"
   ]
  },
  {
   "cell_type": "code",
   "execution_count": 9,
   "id": "1883a3c5",
   "metadata": {},
   "outputs": [
    {
     "data": {
      "text/plain": [
       "4.09302326452976"
      ]
     },
     "execution_count": 9,
     "metadata": {},
     "output_type": "execute_result"
    }
   ],
   "source": [
    "res.fun"
   ]
  },
  {
   "cell_type": "code",
   "execution_count": 11,
   "id": "45c2f936",
   "metadata": {},
   "outputs": [
    {
     "data": {
      "text/plain": [
       "4.093023258012402"
      ]
     },
     "execution_count": 11,
     "metadata": {},
     "output_type": "execute_result"
    }
   ],
   "source": [
    "res.fun"
   ]
  },
  {
   "cell_type": "markdown",
   "id": "2c7b145f",
   "metadata": {},
   "source": [
    "The first run, my initial guess was (1,1,1,1,1).\n",
    "The second run, my initual guess was (1,2,3,4,5).\n",
    "The third run, my initial guess was (60,80,50,60,40).\n",
    "\n",
    "From these guesses, I can tell that there isn't a drastic change in the solution. The percent differnce between these solutions is negligible and if my initital guess is anything less than 100, the solution will be accurate to 7 significant figures. "
   ]
  },
  {
   "cell_type": "code",
   "execution_count": 13,
   "id": "1408f973",
   "metadata": {},
   "outputs": [
    {
     "data": {
      "text/plain": [
       "4.093023258012402"
      ]
     },
     "execution_count": 13,
     "metadata": {},
     "output_type": "execute_result"
    }
   ],
   "source": [
    "res.fun"
   ]
  },
  {
   "cell_type": "markdown",
   "id": "375d2d02",
   "metadata": {},
   "source": [
    "Another observation is when the initial guesses are small, the solution approaches 4.09302326452976, but when the initial guesses are large, the solution approaches 4.093023258012402."
   ]
  }
 ],
 "metadata": {
  "kernelspec": {
   "display_name": "Python 3",
   "language": "python",
   "name": "python3"
  },
  "language_info": {
   "codemirror_mode": {
    "name": "ipython",
    "version": 3
   },
   "file_extension": ".py",
   "mimetype": "text/x-python",
   "name": "python",
   "nbconvert_exporter": "python",
   "pygments_lexer": "ipython3",
   "version": "3.8.8"
  }
 },
 "nbformat": 4,
 "nbformat_minor": 5
}
